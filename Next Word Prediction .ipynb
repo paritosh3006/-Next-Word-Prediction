{
 "cells": [
  {
   "cell_type": "code",
   "execution_count": 1,
   "id": "c38720fd",
   "metadata": {},
   "outputs": [
    {
     "name": "stderr",
     "output_type": "stream",
     "text": [
      "C:\\Users\\parit\\anaconda3\\lib\\site-packages\\numpy\\_distributor_init.py:32: UserWarning: loaded more than 1 DLL from .libs:\n",
      "C:\\Users\\parit\\anaconda3\\lib\\site-packages\\numpy\\.libs\\libopenblas.NOIJJG62EMASZI6NYURL6JBKM4EVBGM7.gfortran-win_amd64.dll\n",
      "C:\\Users\\parit\\anaconda3\\lib\\site-packages\\numpy\\.libs\\libopenblas.WCDJNK7YVMPZQ2ME2ZZHJJRJ3JIKNDB7.gfortran-win_amd64.dll\n",
      "  stacklevel=1)\n"
     ]
    }
   ],
   "source": [
    "#Import necessary libraries and packages\n",
    "\n",
    "import pandas as pd\n",
    "import os\n",
    "import numpy as np\n",
    "\n",
    "import tensorflow as tf\n",
    "from tensorflow.keras.preprocessing.sequence import pad_sequences\n",
    "from tensorflow.keras.layers import Embedding, LSTM, Dense, Bidirectional\n",
    "from tensorflow.keras.preprocessing.text import Tokenizer\n",
    "from tensorflow.keras.models import Sequential\n",
    "from tensorflow.keras.optimizers import Adam"
   ]
  },
  {
   "cell_type": "code",
   "execution_count": 2,
   "id": "0c5ea589",
   "metadata": {},
   "outputs": [
    {
     "data": {
      "text/html": [
       "<div>\n",
       "<style scoped>\n",
       "    .dataframe tbody tr th:only-of-type {\n",
       "        vertical-align: middle;\n",
       "    }\n",
       "\n",
       "    .dataframe tbody tr th {\n",
       "        vertical-align: top;\n",
       "    }\n",
       "\n",
       "    .dataframe thead th {\n",
       "        text-align: right;\n",
       "    }\n",
       "</style>\n",
       "<table border=\"1\" class=\"dataframe\">\n",
       "  <thead>\n",
       "    <tr style=\"text-align: right;\">\n",
       "      <th></th>\n",
       "      <th>id</th>\n",
       "      <th>url</th>\n",
       "      <th>title</th>\n",
       "      <th>subtitle</th>\n",
       "      <th>image</th>\n",
       "      <th>claps</th>\n",
       "      <th>responses</th>\n",
       "      <th>reading_time</th>\n",
       "      <th>publication</th>\n",
       "      <th>date</th>\n",
       "    </tr>\n",
       "  </thead>\n",
       "  <tbody>\n",
       "    <tr>\n",
       "      <th>0</th>\n",
       "      <td>1</td>\n",
       "      <td>https://towardsdatascience.com/a-beginners-gui...</td>\n",
       "      <td>A Beginner’s Guide to Word Embedding with Gens...</td>\n",
       "      <td>NaN</td>\n",
       "      <td>1.png</td>\n",
       "      <td>850</td>\n",
       "      <td>8</td>\n",
       "      <td>8</td>\n",
       "      <td>Towards Data Science</td>\n",
       "      <td>2019-05-30</td>\n",
       "    </tr>\n",
       "    <tr>\n",
       "      <th>1</th>\n",
       "      <td>2</td>\n",
       "      <td>https://towardsdatascience.com/hands-on-graph-...</td>\n",
       "      <td>Hands-on Graph Neural Networks with PyTorch &amp; ...</td>\n",
       "      <td>NaN</td>\n",
       "      <td>2.png</td>\n",
       "      <td>1100</td>\n",
       "      <td>11</td>\n",
       "      <td>9</td>\n",
       "      <td>Towards Data Science</td>\n",
       "      <td>2019-05-30</td>\n",
       "    </tr>\n",
       "    <tr>\n",
       "      <th>2</th>\n",
       "      <td>3</td>\n",
       "      <td>https://towardsdatascience.com/how-to-use-ggpl...</td>\n",
       "      <td>How to Use ggplot2 in Python</td>\n",
       "      <td>A Grammar of Graphics for Python</td>\n",
       "      <td>3.png</td>\n",
       "      <td>767</td>\n",
       "      <td>1</td>\n",
       "      <td>5</td>\n",
       "      <td>Towards Data Science</td>\n",
       "      <td>2019-05-30</td>\n",
       "    </tr>\n",
       "    <tr>\n",
       "      <th>3</th>\n",
       "      <td>4</td>\n",
       "      <td>https://towardsdatascience.com/databricks-how-...</td>\n",
       "      <td>Databricks: How to Save Files in CSV on Your L...</td>\n",
       "      <td>When I work on Python projects dealing…</td>\n",
       "      <td>4.jpeg</td>\n",
       "      <td>354</td>\n",
       "      <td>0</td>\n",
       "      <td>4</td>\n",
       "      <td>Towards Data Science</td>\n",
       "      <td>2019-05-30</td>\n",
       "    </tr>\n",
       "    <tr>\n",
       "      <th>4</th>\n",
       "      <td>5</td>\n",
       "      <td>https://towardsdatascience.com/a-step-by-step-...</td>\n",
       "      <td>A Step-by-Step Implementation of Gradient Desc...</td>\n",
       "      <td>One example of building neural…</td>\n",
       "      <td>5.jpeg</td>\n",
       "      <td>211</td>\n",
       "      <td>3</td>\n",
       "      <td>4</td>\n",
       "      <td>Towards Data Science</td>\n",
       "      <td>2019-05-30</td>\n",
       "    </tr>\n",
       "  </tbody>\n",
       "</table>\n",
       "</div>"
      ],
      "text/plain": [
       "   id                                                url  \\\n",
       "0   1  https://towardsdatascience.com/a-beginners-gui...   \n",
       "1   2  https://towardsdatascience.com/hands-on-graph-...   \n",
       "2   3  https://towardsdatascience.com/how-to-use-ggpl...   \n",
       "3   4  https://towardsdatascience.com/databricks-how-...   \n",
       "4   5  https://towardsdatascience.com/a-step-by-step-...   \n",
       "\n",
       "                                               title  \\\n",
       "0  A Beginner’s Guide to Word Embedding with Gens...   \n",
       "1  Hands-on Graph Neural Networks with PyTorch & ...   \n",
       "2                       How to Use ggplot2 in Python   \n",
       "3  Databricks: How to Save Files in CSV on Your L...   \n",
       "4  A Step-by-Step Implementation of Gradient Desc...   \n",
       "\n",
       "                                  subtitle   image  claps responses  \\\n",
       "0                                      NaN   1.png    850         8   \n",
       "1                                      NaN   2.png   1100        11   \n",
       "2         A Grammar of Graphics for Python   3.png    767         1   \n",
       "3  When I work on Python projects dealing…  4.jpeg    354         0   \n",
       "4          One example of building neural…  5.jpeg    211         3   \n",
       "\n",
       "   reading_time           publication        date  \n",
       "0             8  Towards Data Science  2019-05-30  \n",
       "1             9  Towards Data Science  2019-05-30  \n",
       "2             5  Towards Data Science  2019-05-30  \n",
       "3             4  Towards Data Science  2019-05-30  \n",
       "4             4  Towards Data Science  2019-05-30  "
      ]
     },
     "execution_count": 2,
     "metadata": {},
     "output_type": "execute_result"
    }
   ],
   "source": [
    "medium_data = pd.read_csv(r\"C:\\Users\\parit\\OneDrive\\Desktop\\AI for ALL\\medium_data.csv\\medium_data.csv\")\n",
    "medium_data.head()"
   ]
  },
  {
   "cell_type": "code",
   "execution_count": 3,
   "id": "ebcb616e",
   "metadata": {},
   "outputs": [
    {
     "name": "stdout",
     "output_type": "stream",
     "text": [
      "Number of records:  6508\n",
      "Number of fields:  10\n"
     ]
    }
   ],
   "source": [
    "#Here, we have a 10 different fields and 6508 records but we will only use title field for predicting next word.\n",
    "print(\"Number of records: \", medium_data.shape[0])\n",
    "print(\"Number of fields: \", medium_data.shape[1])"
   ]
  },
  {
   "cell_type": "code",
   "execution_count": 4,
   "id": "f124d0c7",
   "metadata": {},
   "outputs": [
    {
     "data": {
      "text/plain": [
       "0       A Beginner’s Guide to Word Embedding with Gens...\n",
       "1       Hands-on Graph Neural Networks with PyTorch & ...\n",
       "2                            How to Use ggplot2 in Python\n",
       "3       Databricks: How to Save Files in CSV on Your L...\n",
       "4       A Step-by-Step Implementation of Gradient Desc...\n",
       "                              ...                        \n",
       "6503    “We” vs “I” — How Should You Talk About Yourse...\n",
       "6504                     How Donald Trump Markets Himself\n",
       "6505        Content and Marketing Beyond Mass Consumption\n",
       "6506    5 Questions All Copywriters Should Ask Clients...\n",
       "6507               How To Write a Good Business Blog Post\n",
       "Name: title, Length: 6508, dtype: object"
      ]
     },
     "execution_count": 4,
     "metadata": {},
     "output_type": "execute_result"
    }
   ],
   "source": [
    "#Display titles of various articles and preprocess them\n",
    "medium_data['title']"
   ]
  },
  {
   "cell_type": "markdown",
   "id": "7d4b8658",
   "metadata": {},
   "source": [
    "# Removing unwanted characters and words in titles"
   ]
  },
  {
   "cell_type": "markdown",
   "id": "fdf55843",
   "metadata": {},
   "source": [
    "Looking at titles, we can see there are some of unwanted characters and words in it which can not be useful for us to predict infact it might decrease our model accuracy so we have to remove it."
   ]
  },
  {
   "cell_type": "code",
   "execution_count": 5,
   "id": "8e80ecec",
   "metadata": {},
   "outputs": [],
   "source": [
    "medium_data['title'] = medium_data['title'].apply(lambda x: x.replace(u'\\xa0',u' '))\n",
    "medium_data['title'] = medium_data['title'].apply(lambda x: x.replace('\\u200a',' '))"
   ]
  },
  {
   "cell_type": "markdown",
   "id": "33afb50b",
   "metadata": {},
   "source": [
    "# Tokenzation\n"
   ]
  },
  {
   "cell_type": "markdown",
   "id": "9b7fa2a8",
   "metadata": {},
   "source": [
    "Tokenzaion is the process in which we provide an unique id to all the words and make a word index or we can say vocabulary."
   ]
  },
  {
   "cell_type": "code",
   "execution_count": 6,
   "id": "2b1cf885",
   "metadata": {},
   "outputs": [
    {
     "name": "stdout",
     "output_type": "stream",
     "text": [
      "Total number of words:  8238\n",
      "Word: ID\n",
      "------------\n",
      "<oov>:  1\n",
      "Strong:  4\n",
      "And:  8\n",
      "Consumption:  8237\n"
     ]
    }
   ],
   "source": [
    "tokenizer = Tokenizer(oov_token='<oov>') # For those words which are not found in word_index\n",
    "tokenizer.fit_on_texts(medium_data['title'])\n",
    "total_words = len(tokenizer.word_index) + 1\n",
    "\n",
    "print(\"Total number of words: \", total_words)\n",
    "print(\"Word: ID\")\n",
    "print(\"------------\")\n",
    "print(\"<oov>: \", tokenizer.word_index['<oov>'])\n",
    "print(\"Strong: \", tokenizer.word_index['strong'])\n",
    "print(\"And: \", tokenizer.word_index['and'])\n",
    "print(\"Consumption: \", tokenizer.word_index['consumption'])"
   ]
  },
  {
   "cell_type": "raw",
   "id": "86a73bb1",
   "metadata": {},
   "source": [
    "Titles text into sequences and make n_gram model\n",
    "suppose, we have sentence like \"I am Paritosh\" and this will convert into a sequence with their respective tokens {'I': 1,'am': 2,'Paritosh': 3}. Thus, output will be [ '1' ,'2' ,'3' ]\n",
    "\n",
    "Likewise, our all titles will be converted into sequences.\n",
    "\n",
    "Then, we will make a n_gram model for good prediction."
   ]
  },
  {
   "cell_type": "code",
   "execution_count": 7,
   "id": "7b8cb5e9",
   "metadata": {},
   "outputs": [
    {
     "name": "stdout",
     "output_type": "stream",
     "text": [
      "Total input sequences:  48461\n"
     ]
    }
   ],
   "source": [
    "input_sequences = []\n",
    "for line in medium_data['title']:\n",
    "    token_list = tokenizer.texts_to_sequences([line])[0]\n",
    "    #print(token_list)\n",
    "    \n",
    "    for i in range(1, len(token_list)):\n",
    "        n_gram_sequence = token_list[:i+1]\n",
    "        input_sequences.append(n_gram_sequence)\n",
    "\n",
    "# print(input_sequences)\n",
    "print(\"Total input sequences: \", len(input_sequences))"
   ]
  },
  {
   "cell_type": "raw",
   "id": "511ac884",
   "metadata": {},
   "source": [
    "Make all titles with same length by using padding\n",
    "The length of every title has to be the same. To make it, we need to find a title that has a maximum length, and based on that length, we have to pad rest of titles."
   ]
  },
  {
   "cell_type": "code",
   "execution_count": 8,
   "id": "f23b55b2",
   "metadata": {},
   "outputs": [
    {
     "data": {
      "text/plain": [
       "array([  0,   0,   0,   0,   0,   0,   0,   0,   0,   0,   0,   0,   0,\n",
       "         0,   0,   0,   0,   0,   0,   0,   0,   0,   0,   0,   0,   0,\n",
       "         0,   0,   0,   0,   0,   0,   0,   0,   0,   0,   0,   5, 676,\n",
       "        68])"
      ]
     },
     "execution_count": 8,
     "metadata": {},
     "output_type": "execute_result"
    }
   ],
   "source": [
    "# pad sequences \n",
    "max_sequence_len = max([len(x) for x in input_sequences])\n",
    "input_sequences = np.array(pad_sequences(input_sequences, maxlen=max_sequence_len, padding='pre'))\n",
    "input_sequences[1]"
   ]
  },
  {
   "cell_type": "markdown",
   "id": "f12df673",
   "metadata": {},
   "source": [
    "# Prepare features and labels"
   ]
  },
  {
   "cell_type": "markdown",
   "id": "3222e675",
   "metadata": {},
   "source": [
    "Here, we consider last element of all sequences as a label.Then, We need to perform onehot encoding on labels corresponding to total_words."
   ]
  },
  {
   "cell_type": "code",
   "execution_count": 9,
   "id": "f700fdee",
   "metadata": {},
   "outputs": [],
   "source": [
    "# create features and label\n",
    "xs, labels = input_sequences[:,:-1],input_sequences[:,-1]\n",
    "ys = tf.keras.utils.to_categorical(labels, num_classes=total_words)"
   ]
  },
  {
   "cell_type": "code",
   "execution_count": 10,
   "id": "480d0471",
   "metadata": {},
   "outputs": [
    {
     "name": "stdout",
     "output_type": "stream",
     "text": [
      "[   0    0    0    0    0    0    0    0    0    0    0    0    0    0\n",
      "    0    0    0    0    0    0    0    0    0    0    0    0    0    0\n",
      "    0    0    0    0    0    5  676   68    2  452 1518]\n",
      "14\n",
      "1.0\n"
     ]
    }
   ],
   "source": [
    "print(xs[5])\n",
    "print(labels[5])\n",
    "print(ys[5][14])"
   ]
  },
  {
   "cell_type": "markdown",
   "id": "1900eacb",
   "metadata": {},
   "source": [
    "# Bi- LSTM Neural Network Model training"
   ]
  },
  {
   "cell_type": "raw",
   "id": "436285ee",
   "metadata": {},
   "source": [
    "Long Short-Term Memory (LSTM) networks is an advance recurrent neural network which is apable to store order states by using its cell state feature."
   ]
  },
  {
   "cell_type": "code",
   "execution_count": 11,
   "id": "84fd609b",
   "metadata": {},
   "outputs": [
    {
     "name": "stdout",
     "output_type": "stream",
     "text": [
      "Epoch 1/50\n",
      "1515/1515 [==============================] - 98s 65ms/step - loss: 6.9867 - accuracy: 0.1236\n",
      "Epoch 2/50\n",
      "1515/1515 [==============================] - 94s 62ms/step - loss: 5.8835 - accuracy: 0.1768\n",
      "Epoch 3/50\n",
      "1515/1515 [==============================] - 95s 63ms/step - loss: 4.9350 - accuracy: 0.2055\n",
      "Epoch 4/50\n",
      "1515/1515 [==============================] - 95s 63ms/step - loss: 4.1818 - accuracy: 0.2488\n",
      "Epoch 5/50\n",
      "1515/1515 [==============================] - 96s 63ms/step - loss: 3.6564 - accuracy: 0.29510s - loss: 3.6563 - accuracy: 0.\n",
      "Epoch 6/50\n",
      "1515/1515 [==============================] - 96s 64ms/step - loss: 3.2994 - accuracy: 0.3338\n",
      "Epoch 7/50\n",
      "1515/1515 [==============================] - 99s 65ms/step - loss: 3.0516 - accuracy: 0.3625\n",
      "Epoch 8/50\n",
      "1515/1515 [==============================] - 97s 64ms/step - loss: 2.8809 - accuracy: 0.3863\n",
      "Epoch 9/50\n",
      "1515/1515 [==============================] - 106s 70ms/step - loss: 2.7723 - accuracy: 0.4018\n",
      "Epoch 10/50\n",
      "1515/1515 [==============================] - 96s 63ms/step - loss: 2.6505 - accuracy: 0.4190\n",
      "Epoch 11/50\n",
      "1515/1515 [==============================] - 102s 67ms/step - loss: 2.5718 - accuracy: 0.4309\n",
      "Epoch 12/50\n",
      "1515/1515 [==============================] - 97s 64ms/step - loss: 2.5353 - accuracy: 0.4413\n",
      "Epoch 13/50\n",
      "1515/1515 [==============================] - 106s 70ms/step - loss: 2.4592 - accuracy: 0.4514\n",
      "Epoch 14/50\n",
      "1515/1515 [==============================] - 100s 66ms/step - loss: 2.4696 - accuracy: 0.4502\n",
      "Epoch 15/50\n",
      "1515/1515 [==============================] - 98s 65ms/step - loss: 2.4412 - accuracy: 0.4566\n",
      "Epoch 16/50\n",
      "1515/1515 [==============================] - 104s 69ms/step - loss: 2.3974 - accuracy: 0.4611\n",
      "Epoch 17/50\n",
      "1515/1515 [==============================] - 102s 67ms/step - loss: 2.3477 - accuracy: 0.4696\n",
      "Epoch 18/50\n",
      "1515/1515 [==============================] - 102s 67ms/step - loss: 2.3292 - accuracy: 0.4740\n",
      "Epoch 19/50\n",
      "1515/1515 [==============================] - 105s 69ms/step - loss: 2.2938 - accuracy: 0.4815\n",
      "Epoch 20/50\n",
      "1515/1515 [==============================] - 103s 68ms/step - loss: 2.3197 - accuracy: 0.4763\n",
      "Epoch 21/50\n",
      "1515/1515 [==============================] - 102s 68ms/step - loss: 2.2939 - accuracy: 0.4807\n",
      "Epoch 22/50\n",
      "1515/1515 [==============================] - 112s 74ms/step - loss: 2.2862 - accuracy: 0.4855\n",
      "Epoch 23/50\n",
      "1515/1515 [==============================] - 103s 68ms/step - loss: 2.2646 - accuracy: 0.4864\n",
      "Epoch 24/50\n",
      "1515/1515 [==============================] - 101s 67ms/step - loss: 2.2266 - accuracy: 0.4941\n",
      "Epoch 25/50\n",
      "1515/1515 [==============================] - 104s 68ms/step - loss: 2.1999 - accuracy: 0.5004\n",
      "Epoch 26/50\n",
      "1515/1515 [==============================] - 111s 73ms/step - loss: 2.2032 - accuracy: 0.5000\n",
      "Epoch 27/50\n",
      "1515/1515 [==============================] - 101s 67ms/step - loss: 2.2249 - accuracy: 0.4954s - loss: 2.2179 - ac\n",
      "Epoch 28/50\n",
      "1515/1515 [==============================] - 102s 67ms/step - loss: 2.1877 - accuracy: 0.5014\n",
      "Epoch 29/50\n",
      "1515/1515 [==============================] - 100s 66ms/step - loss: 2.2269 - accuracy: 0.4981\n",
      "Epoch 30/50\n",
      "1515/1515 [==============================] - 102s 67ms/step - loss: 2.2481 - accuracy: 0.4941\n",
      "Epoch 31/50\n",
      "1515/1515 [==============================] - 100s 66ms/step - loss: 2.2116 - accuracy: 0.4995\n",
      "Epoch 32/50\n",
      "1515/1515 [==============================] - 94s 62ms/step - loss: 2.2163 - accuracy: 0.5017\n",
      "Epoch 33/50\n",
      "1515/1515 [==============================] - 100s 66ms/step - loss: 2.1992 - accuracy: 0.5020\n",
      "Epoch 34/50\n",
      "1515/1515 [==============================] - 100s 66ms/step - loss: 2.1824 - accuracy: 0.5045\n",
      "Epoch 35/50\n",
      "1515/1515 [==============================] - 100s 66ms/step - loss: 2.1759 - accuracy: 0.5040\n",
      "Epoch 36/50\n",
      "1515/1515 [==============================] - 101s 67ms/step - loss: 2.1810 - accuracy: 0.5066\n",
      "Epoch 37/50\n",
      "1515/1515 [==============================] - 102s 67ms/step - loss: 2.1844 - accuracy: 0.5085\n",
      "Epoch 38/50\n",
      "1515/1515 [==============================] - 101s 67ms/step - loss: 2.1495 - accuracy: 0.5120\n",
      "Epoch 39/50\n",
      "1515/1515 [==============================] - 101s 67ms/step - loss: 2.1620 - accuracy: 0.5122\n",
      "Epoch 40/50\n",
      "1515/1515 [==============================] - 102s 67ms/step - loss: 2.1530 - accuracy: 0.5146\n",
      "Epoch 41/50\n",
      "1515/1515 [==============================] - 102s 67ms/step - loss: 2.1432 - accuracy: 0.5161\n",
      "Epoch 42/50\n",
      "1515/1515 [==============================] - 103s 68ms/step - loss: 2.1724 - accuracy: 0.5132\n",
      "Epoch 43/50\n",
      "1515/1515 [==============================] - 104s 69ms/step - loss: 2.1641 - accuracy: 0.5155\n",
      "Epoch 44/50\n",
      "1515/1515 [==============================] - 103s 68ms/step - loss: 2.1538 - accuracy: 0.5160\n",
      "Epoch 45/50\n",
      "1515/1515 [==============================] - 103s 68ms/step - loss: 2.1857 - accuracy: 0.5133\n",
      "Epoch 46/50\n",
      "1515/1515 [==============================] - 104s 68ms/step - loss: 2.1647 - accuracy: 0.5143\n",
      "Epoch 47/50\n",
      "1515/1515 [==============================] - 103s 68ms/step - loss: 2.1285 - accuracy: 0.5155\n",
      "Epoch 48/50\n",
      "1515/1515 [==============================] - 105s 69ms/step - loss: 2.1267 - accuracy: 0.5207\n",
      "Epoch 49/50\n",
      "1515/1515 [==============================] - 103s 68ms/step - loss: 2.1892 - accuracy: 0.5145\n",
      "Epoch 50/50\n",
      "1515/1515 [==============================] - 102s 68ms/step - loss: 2.1711 - accuracy: 0.5159\n",
      "<tensorflow.python.keras.engine.sequential.Sequential object at 0x0000016459E5A8C8>\n"
     ]
    }
   ],
   "source": [
    "model = Sequential()\n",
    "model.add(Embedding(total_words, 100, input_length=max_sequence_len-1))\n",
    "model.add(Bidirectional(LSTM(150)))\n",
    "model.add(Dense(total_words, activation='softmax'))\n",
    "adam = Adam(lr=0.01)\n",
    "model.compile(loss='categorical_crossentropy', optimizer=adam, metrics=['accuracy'])\n",
    "history = model.fit(xs, ys, epochs=50, verbose=1)\n",
    "#print model.summary()\n",
    "print(model)"
   ]
  },
  {
   "cell_type": "markdown",
   "id": "0568260e",
   "metadata": {},
   "source": [
    "# Plotting model accuracy and loss"
   ]
  },
  {
   "cell_type": "code",
   "execution_count": 12,
   "id": "3acc88eb",
   "metadata": {},
   "outputs": [],
   "source": [
    "import matplotlib.pyplot as plt\n",
    "\n",
    "\n",
    "def plot_graphs(history, string):\n",
    "    plt.plot(history.history[string])\n",
    "    plt.xlabel(\"Epochs\")\n",
    "    plt.ylabel(string)\n",
    "    plt.show()"
   ]
  },
  {
   "cell_type": "code",
   "execution_count": 13,
   "id": "b190d586",
   "metadata": {},
   "outputs": [
    {
     "data": {
      "image/png": "[encoded data removed]",
      "text/plain": [
       "<Figure size 640x480 with 1 Axes>"
      ]
     },
     "metadata": {},
     "output_type": "display_data"
    }
   ],
   "source": [
    "plot_graphs(history, 'accuracy')"
   ]
  },
  {
   "cell_type": "code",
   "execution_count": 14,
   "id": "26eafafa",
   "metadata": {},
   "outputs": [
    {
     "data": {
      "image/png": "[encoded data removed]",
      "text/plain": [
       "<Figure size 640x480 with 1 Axes>"
      ]
     },
     "metadata": {},
     "output_type": "display_data"
    }
   ],
   "source": [
    "plot_graphs(history, 'loss')"
   ]
  },
  {
   "cell_type": "markdown",
   "id": "057f3338",
   "metadata": {},
   "source": [
    "# Predicting next word of title"
   ]
  },
  {
   "cell_type": "code",
   "execution_count": 15,
   "id": "65e3e65d",
   "metadata": {},
   "outputs": [
    {
     "name": "stdout",
     "output_type": "stream",
     "text": [
      "WARNING:tensorflow:From <ipython-input-15-f50f47a47d0c>:7: Sequential.predict_classes (from tensorflow.python.keras.engine.sequential) is deprecated and will be removed after 2021-01-01.\n",
      "Instructions for updating:\n",
      "Please use instead:* `np.argmax(model.predict(x), axis=-1)`,   if your model does multi-class classification   (e.g. if it uses a `softmax` last-layer activation).* `(model.predict(x) > 0.5).astype(\"int32\")`,   if your model does binary classification   (e.g. if it uses a `sigmoid` last-layer activation).\n",
      "implementation of rnn lstm\n"
     ]
    }
   ],
   "source": [
    "seed_text = \"implementation of\"\n",
    "next_words = 2\n",
    "  \n",
    "for _ in range(next_words):\n",
    "    token_list = tokenizer.texts_to_sequences([seed_text])[0]\n",
    "    token_list = pad_sequences([token_list], maxlen=max_sequence_len-1, padding='pre')\n",
    "    predicted = model.predict_classes(token_list, verbose=0)\n",
    "    output_word = \"\"\n",
    "    for word, index in tokenizer.word_index.items():\n",
    "        if index == predicted:\n",
    "            output_word = word\n",
    "            break\n",
    "    seed_text += \" \" + output_word\n",
    "print(seed_text)"
   ]
  },
  {
   "cell_type": "code",
   "execution_count": null,
   "id": "8ebd12e0",
   "metadata": {},
   "outputs": [],
   "source": []
  }
 ],
 "metadata": {
  "kernelspec": {
   "display_name": "Python 3",
   "language": "python",
   "name": "python3"
  },
  "language_info": {
   "codemirror_mode": {
    "name": "ipython",
    "version": 3
   },
   "file_extension": ".py",
   "mimetype": "text/x-python",
   "name": "python",
   "nbconvert_exporter": "python",
   "pygments_lexer": "ipython3",
   "version": "3.7.6"
  }
 },
 "nbformat": 4,
 "nbformat_minor": 5
}
